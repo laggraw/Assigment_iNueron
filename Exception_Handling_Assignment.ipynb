{
 "cells": [
  {
   "cell_type": "markdown",
   "metadata": {},
   "source": [
    "1.Write a function to compute 5/0 and use try/except to catch the exceptions."
   ]
  },
  {
   "cell_type": "code",
   "execution_count": 42,
   "metadata": {},
   "outputs": [
    {
     "name": "stdout",
     "output_type": "stream",
     "text": [
      "Got the exception float division by zero.\n"
     ]
    }
   ],
   "source": [
    "def Compute_div(x,y):\n",
    "    try:\n",
    "        x = float(x)\n",
    "        y = float(y)\n",
    "        try:\n",
    "            z = x/y\n",
    "        except ZeroDivisionError as e:\n",
    "            print(\"Got the exception %s.\"%e)\n",
    "        else:\n",
    "            return z\n",
    "    except ValueError as t:\n",
    "        print(\"unsupported operand type(s) %s\" %t)\n",
    "    except Exception as t:\n",
    "            print(\"Got the exception %s.\"%t)\n",
    "\n",
    "Compute_div(5,0)"
   ]
  },
  {
   "cell_type": "markdown",
   "metadata": {},
   "source": [
    "2.Implement a Python program to generate all sentences where subject is in [\"Americans\", \"Indians\"] and verb is in \n",
    "[\"Play\", \"watch\"] and the object is in [\"Baseball\",\"cricket\"]."
   ]
  },
  {
   "cell_type": "code",
   "execution_count": 9,
   "metadata": {},
   "outputs": [
    {
     "name": "stdout",
     "output_type": "stream",
     "text": [
      "All possible permutations are : ['Americans play Baseball', 'Americans play Cricket', 'Americans watch Baseball', 'Americans watch Cricket', 'Indians play Baseball', 'Indians play Cricket', 'Indians watch Baseball', 'Indians watch Cricket']\n"
     ]
    }
   ],
   "source": [
    "subjects=[\"Americans\",\"Indians\"]\n",
    "verbs=[\"play\",\"watch\"]\n",
    "objects=[\"Baseball\",\"Cricket\"]\n",
    "\n",
    "res = [ i + \" \" +j + \" \" + k  for i in subjects for j in verbs for k in objects] \n",
    "\n",
    "print (\"All possible permutations are : \" +  str(res)) "
   ]
  },
  {
   "cell_type": "code",
   "execution_count": null,
   "metadata": {},
   "outputs": [],
   "source": []
  }
 ],
 "metadata": {
  "kernelspec": {
   "display_name": "Python 3",
   "language": "python",
   "name": "python3"
  },
  "language_info": {
   "codemirror_mode": {
    "name": "ipython",
    "version": 3
   },
   "file_extension": ".py",
   "mimetype": "text/x-python",
   "name": "python",
   "nbconvert_exporter": "python",
   "pygments_lexer": "ipython3",
   "version": "3.8.5"
  }
 },
 "nbformat": 4,
 "nbformat_minor": 4
}
