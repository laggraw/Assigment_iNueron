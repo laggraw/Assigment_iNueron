{
 "cells": [
  {
   "cell_type": "markdown",
   "metadata": {},
   "source": [
    "1.1 Write a Python Program(with class concepts) to find the area of the triangle using the below\n",
    "formula.\n",
    "\n",
    "area = (s*(s-a)*(s-b)*(s-c)) ** 0.5\n",
    "\n",
    "Function to take the length of the sides of triangle from user should be defined in the parent\n",
    "class and function to calculate the area should be defined in subclass."
   ]
  },
  {
   "cell_type": "code",
   "execution_count": 35,
   "metadata": {},
   "outputs": [
    {
     "name": "stdout",
     "output_type": "stream",
     "text": [
      "Sides of a triangle are 4.00, 8.00 and 5.00 and its Area is : 8.18 .\n"
     ]
    }
   ],
   "source": [
    "class parent_class:\n",
    "    def __init__(self, a,b,c):\n",
    "        self.a = a\n",
    "        self.b = b\n",
    "        self.c = c\n",
    "    \n",
    "    def __str__(self):\n",
    "        return \"Sides of a triangle are %.2f, %.2f and %.2f \"%(self.a,self.b,self.c)\n",
    "        \n",
    "class child_class(parent_class):\n",
    "    def __init__(self, *args):\n",
    "        super(child_class, self).__init__(*args)\n",
    "        \n",
    "    def area(self):\n",
    "        s = (self.a+self.b+self.c)/2\n",
    "        return (s*(s-self.a)*(s-self.b)*(s-self.c))**0.5\n",
    "    \n",
    "    def __str__(self):\n",
    "        return super(child_class, self).__str__() +\"and its area is : %.2f .\"% self.area()\n",
    "    \n",
    "\n",
    "    \n",
    "x =child_class(4,8,5)\n",
    "print(x)\n",
    "        "
   ]
  },
  {
   "cell_type": "markdown",
   "metadata": {},
   "source": [
    "1.2 Write a function filter_long_words() that takes a list of words and an integer n and returns\n",
    "the list of words that are longer than n."
   ]
  },
  {
   "cell_type": "code",
   "execution_count": 17,
   "metadata": {},
   "outputs": [
    {
     "data": {
      "text/plain": [
       "['jsbdjkf', 'tutiugiu', 'bsjkfbie', 'bskjbfk']"
      ]
     },
     "execution_count": 17,
     "metadata": {},
     "output_type": "execute_result"
    }
   ],
   "source": [
    "word = [\"jsgfkj\",\"uewgu\",\"jsbdjkf\",\"tutiugiu\",\"bsjkfbie\",\"bskjbfk\"]\n",
    "result = []\n",
    "filter_long_words(word,6)\n",
    "\n",
    "def filter_long_words(l1,n):\n",
    "    for i in l1:\n",
    "        if(len(i)>n):\n",
    "            result.append(i)\n",
    "            \n",
    "result"
   ]
  },
  {
   "cell_type": "markdown",
   "metadata": {},
   "source": [
    "2.1 Write a Python program using function concept that maps list of words into a list of integers\n",
    "representing the lengths of the corresponding words.\n",
    "\n",
    "\n",
    "Hint: If a list [ ab,cde,erty] is passed on to the python function output should come as [2,3,4]\n",
    "Here 2,3 and 4 are the lengths of the words in the list"
   ]
  },
  {
   "cell_type": "code",
   "execution_count": 19,
   "metadata": {},
   "outputs": [
    {
     "data": {
      "text/plain": [
       "[6, 5, 7, 8, 8, 7]"
      ]
     },
     "execution_count": 19,
     "metadata": {},
     "output_type": "execute_result"
    }
   ],
   "source": [
    "word = [\"jsgfkj\",\"uewgu\",\"jsbdjkf\",\"tutiugiu\",\"bsjkfbie\",\"bskjbfk\"]\n",
    "l1 = list(map(lambda x : len(x), word))\n",
    "l1"
   ]
  },
  {
   "cell_type": "markdown",
   "metadata": {},
   "source": [
    "2.2 Write a Python function which takes a character (i.e. a string of length 1) and returns True if\n",
    "it is a vowel, False otherwise."
   ]
  },
  {
   "cell_type": "code",
   "execution_count": 3,
   "metadata": {},
   "outputs": [
    {
     "name": "stdout",
     "output_type": "stream",
     "text": [
      "Please enter the character :t\n"
     ]
    },
    {
     "data": {
      "text/plain": [
       "False"
      ]
     },
     "execution_count": 3,
     "metadata": {},
     "output_type": "execute_result"
    }
   ],
   "source": [
    "vowel = ['a','e','i','o','u']\n",
    "char = input(\"Please enter the character :\")\n",
    "def vowel_check(char):\n",
    "    if(char.isalpha) and (len(char) ==1): # checking whether user entered a char,string or something else\n",
    "        if(vowel.count(char)== 1):        # checking whether entered char is a vowel or not \n",
    "            return True\n",
    "        else :\n",
    "            return False\n",
    "    else:\n",
    "        return False\n",
    "\n",
    "vowel_check(char)"
   ]
  },
  {
   "cell_type": "code",
   "execution_count": null,
   "metadata": {},
   "outputs": [],
   "source": []
  }
 ],
 "metadata": {
  "kernelspec": {
   "display_name": "Python 3",
   "language": "python",
   "name": "python3"
  },
  "language_info": {
   "codemirror_mode": {
    "name": "ipython",
    "version": 3
   },
   "file_extension": ".py",
   "mimetype": "text/x-python",
   "name": "python",
   "nbconvert_exporter": "python",
   "pygments_lexer": "ipython3",
   "version": "3.8.5"
  }
 },
 "nbformat": 4,
 "nbformat_minor": 4
}
